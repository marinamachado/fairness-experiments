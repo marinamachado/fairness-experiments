{
 "cells": [
  {
   "cell_type": "code",
   "execution_count": 1,
   "id": "83b24f46",
   "metadata": {},
   "outputs": [],
   "source": [
    "import numpy as np\n",
    "import pandas as pd\n",
    "import aif360\n",
    "from aif360.datasets import AdultDataset, GermanDataset, CompasDataset, BankDataset, StandardDataset\n",
    "from fairness_experiments import Experiment\n",
    "from settings import classifiers_settings_test, final_classifiers_settings,classifiers_basic,lfr_settings,final_classifiers_settings_weights\n",
    "from aif360.algorithms.preprocessing import DisparateImpactRemover,LFR\n",
    "from dataset import Dataset,German,Titanic,Bank,Adult,Compas,Arrhythmia,Contraceptive,Alcohol,Canabis,Heroin"
   ]
  },
  {
   "cell_type": "code",
   "execution_count": 2,
   "id": "9e764fa4",
   "metadata": {},
   "outputs": [],
   "source": [
    "datasets = [Arrhythmia,Contraceptive,Alcohol,Canabis,Heroin,German,Titanic,Bank,Adult,Compas]\n",
    "preproc = ['sem pré-processamento','DIR','RW','MSS','PS','US']\n",
    "\n"
   ]
  },
  {
   "cell_type": "code",
   "execution_count": 3,
   "id": "f4a8f9cd-a540-4691-9c00-ce7cc5b82847",
   "metadata": {},
   "outputs": [],
   "source": [
    "error = []"
   ]
  },
  {
   "cell_type": "code",
   "execution_count": null,
   "id": "083087bd-2756-436e-86d1-e5e6ae3ddd22",
   "metadata": {},
   "outputs": [
    {
     "name": "stdout",
     "output_type": "stream",
     "text": [
      "(Canabis - US) - Classificador Random Forest (3/22) - Progresso Geral (53/83)\n"
     ]
    }
   ],
   "source": [
    "for data in datasets:\n",
    "    results = pd.DataFrame()\n",
    "    \n",
    "    for p in preproc:\n",
    "        df = data()\n",
    "        \n",
    "    try:\n",
    "        if p != 'RW':\n",
    "            exp_teste = Experiment(final_classifiers_settings,dataset_name=data.__name__, preprocessing_name=p, \n",
    "                 privileged_group='1.0')\n",
    "        else:\n",
    "            exp_teste = Experiment(final_classifiers_settings_weights,dataset_name=data.__name__, preprocessing_name=p, \n",
    "                 privileged_group='1.0')\n",
    "        exp_teste.execute(df.X,df.y,df)\n",
    "        results = results.append(exp_teste.report)\n",
    "        print(results)\n",
    "    except:\n",
    "        error.append((data,p))\n",
    "    results.to_csv(f'results/final-{data.__name__}')"
   ]
  },
  {
   "cell_type": "raw",
   "id": "abf1b75f-c1cd-419d-9895-4aeecf059c95",
   "metadata": {},
   "source": [
    "results"
   ]
  },
  {
   "cell_type": "code",
   "execution_count": null,
   "id": "cf0e3b42",
   "metadata": {},
   "outputs": [],
   "source": [
    "results"
   ]
  },
  {
   "cell_type": "code",
   "execution_count": null,
   "id": "daaf39df-36a7-4d55-b1e0-180490fe5689",
   "metadata": {},
   "outputs": [],
   "source": []
  }
 ],
 "metadata": {
  "kernelspec": {
   "display_name": "Python 3",
   "language": "python",
   "name": "python3"
  },
  "language_info": {
   "codemirror_mode": {
    "name": "ipython",
    "version": 3
   },
   "file_extension": ".py",
   "mimetype": "text/x-python",
   "name": "python",
   "nbconvert_exporter": "python",
   "pygments_lexer": "ipython3",
   "version": "3.7.10"
  }
 },
 "nbformat": 4,
 "nbformat_minor": 5
}
