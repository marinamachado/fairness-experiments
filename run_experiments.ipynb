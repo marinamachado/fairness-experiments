{
 "cells": [
  {
   "cell_type": "code",
   "execution_count": 5,
   "id": "5d3d3fff",
   "metadata": {},
   "outputs": [],
   "source": [
    "import numpy as np\n",
    "import pandas as pd\n",
    "import aif360\n",
    "from aif360.datasets import AdultDataset, GermanDataset, CompasDataset, BankDataset, StandardDataset\n",
    "from fairness_experiments import Experiment\n",
    "from settings import final_classifiers_settings,final_classifiers_settings_weights\n",
    "from aif360.algorithms.preprocessing import DisparateImpactRemover\n",
    "from dataset import Dataset,German,Titanic,Bank,Adult,Compas,Arrhythmia,Contraceptive,Alcohol,Canabis,Heroin"
   ]
  },
  {
   "cell_type": "code",
   "execution_count": 11,
   "id": "ebbbeb01",
   "metadata": {},
   "outputs": [],
   "source": [
    "datasets = [Arrhythmia,Contraceptive,Alcohol,Canabis,Heroin,German,Titanic,Bank,Adult,Compas]\n",
    "preproc = ['sem pré-processamento','DIR','RW','MSS','PS','US']\n"
   ]
  },
  {
   "cell_type": "code",
   "execution_count": 7,
   "id": "a7f0d39e",
   "metadata": {},
   "outputs": [],
   "source": [
    "error = []"
   ]
  },
  {
   "cell_type": "code",
   "execution_count": null,
   "id": "27656d6e",
   "metadata": {},
   "outputs": [
    {
     "name": "stdout",
     "output_type": "stream",
     "text": [
      "(Adult - RW) - Classificador SVM2 (1/8) - Progresso Geral (54/61)\n"
     ]
    }
   ],
   "source": [
    "for data in datasets:\n",
    "    results = pd.DataFrame()\n",
    "    \n",
    "    for p in preproc:\n",
    "        df = data()\n",
    "        \n",
    "        try:\n",
    "            if p != 'RW':\n",
    "                exp_teste = Experiment(final_classifiers_settings,dataset_name=data.__name__, preprocessing_name=p, \n",
    "                     privileged_group='1.0')\n",
    "            else:\n",
    "                exp_teste = Experiment(final_classifiers_settings_weights,dataset_name=data.__name__, preprocessing_name=p, \n",
    "                     privileged_group='1.0')\n",
    "            exp_teste.execute(df.X,df.y,df)\n",
    "            results = results.append(exp_teste.report)\n",
    "        except:\n",
    "            error.append((data,p))\n",
    "    results.to_csv(f'results/final/final-{data.__name__}')"
   ]
  },
  {
   "cell_type": "code",
   "execution_count": null,
   "id": "6839ef6f",
   "metadata": {},
   "outputs": [],
   "source": []
  }
 ],
 "metadata": {
  "kernelspec": {
   "display_name": "Python 3",
   "language": "python",
   "name": "python3"
  },
  "language_info": {
   "codemirror_mode": {
    "name": "ipython",
    "version": 3
   },
   "file_extension": ".py",
   "mimetype": "text/x-python",
   "name": "python",
   "nbconvert_exporter": "python",
   "pygments_lexer": "ipython3",
   "version": "3.7.10"
  }
 },
 "nbformat": 4,
 "nbformat_minor": 5
}
